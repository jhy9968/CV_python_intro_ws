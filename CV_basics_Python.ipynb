{
 "cells": [
  {
   "cell_type": "markdown",
   "metadata": {},
   "source": [
    "Welcome to the `Python Introduction Workshop`! In this notebook, we will quickly go over basic concepts of Python programming language. We will then learn about several packages that we will use in our workshops, including Numpy and Matplotlib. We will finish this notebook by studying n-balls and observe something interesting together.\n"
   ]
  },
  {
   "cell_type": "markdown",
   "metadata": {
    "id": "0rTEhpuHY0uI"
   },
   "source": [
    "<div class=\"alert alert-block alert-info\">\n",
    "\n",
    "# 1. Python basics \n",
    "\n",
    "For this workshop we will be using the Python programming language! Python is an \"interpreted\" language, which means that there is no need to compile code before we run it! This means we can use programs like Jupyter to create and run code in an \"interactive\" setting which aids in prototyping and learning of new ideas!\n",
    "\n",
    "<img src=\"https://upload.wikimedia.org/wikipedia/commons/thumb/f/f8/Python_logo_and_wordmark.svg/2880px-Python_logo_and_wordmark.svg.png\" width=\"400\" align=\"center\">"
   ]
  },
  {
   "cell_type": "markdown",
   "metadata": {
    "id": "Z-UmYsm-Y0uM"
   },
   "source": [
    "## 1.1 Values & Variables \n",
    "\n",
    "Before we beginning, Python has the following common data types built-in by defualt:\n",
    "- Text type:       \n",
    "    - `str` - string\n",
    "- Numeric types:   \n",
    "    - `int` - integer \n",
    "    - `float` - floating point \n",
    "    - `complex` - complex number\n",
    "- Boolean type:\n",
    "    - `bool` - boolean\n",
    "\n",
    "Python variables do not need explicit declaration to reserve memory space. The declaration happens automatically when you assign a value to a variable. The equal sign (=) is used to assign values to variables."
   ]
  },
  {
   "cell_type": "code",
   "execution_count": 148,
   "metadata": {},
   "outputs": [],
   "source": [
    "a = 'Python workshop'   # String\n",
    "b = 10              # Integer\n",
    "c = 1.23            # Floating point\n",
    "d = complex(1, 2)   # Complex number\n",
    "e = True            # Boolean"
   ]
  },
  {
   "cell_type": "markdown",
   "metadata": {},
   "source": [
    "In python notebooks, you can call a variable to display its value. Try it yourself (change `a` to `b`, `c`, ...) to display the variables defined above."
   ]
  },
  {
   "cell_type": "code",
   "execution_count": 149,
   "metadata": {},
   "outputs": [
    {
     "data": {
      "text/plain": [
       "'AI workshop'"
      ]
     },
     "execution_count": 149,
     "metadata": {},
     "output_type": "execute_result"
    }
   ],
   "source": [
    "a   # Display the value of a variable."
   ]
  },
  {
   "cell_type": "markdown",
   "metadata": {},
   "source": [
    "In Python, within a line, everything after a hashtag '`#`' is considered as comments, and they will not be seen and interpreted when running the code. The comments are usually used to ensure readability of your code for you and your code readers (including yourself in the future!). So, it is always a good practice to add comments."
   ]
  },
  {
   "cell_type": "markdown",
   "metadata": {
    "id": "Q3TsU8GoY0uR"
   },
   "source": [
    "You can also assign multiple objects to multiple variables. For example here, two integer objects with values 1 and 2 are assigned to the variables `a` and `b` respectively, and one string object with the value \"john\" is assigned to the variable `c`.\n",
    "\n",
    "The `print()` function also allows you to print multiple elements at the same time by splitting them using commas."
   ]
  },
  {
   "cell_type": "code",
   "execution_count": 151,
   "metadata": {
    "id": "9Fv26lk1Y0uR"
   },
   "outputs": [
    {
     "name": "stdout",
     "output_type": "stream",
     "text": [
      "1 2 john\n"
     ]
    }
   ],
   "source": [
    "a, b, c = 1, 2, \"john\"\n",
    "print(a, b, c)"
   ]
  },
  {
   "cell_type": "markdown",
   "metadata": {},
   "source": [
    "There are more compact ways to print strings with numerical values, where manual casting is not needed. For example, you can use \n",
    "\n",
    "- Formatting string literals (also called f-strings for short)\n",
    "- The string `format()` method\n",
    "\n",
    "Let's try these methods below."
   ]
  },
  {
   "cell_type": "code",
   "execution_count": 153,
   "metadata": {},
   "outputs": [
    {
     "name": "stdout",
     "output_type": "stream",
     "text": [
      "My name is Tim and I am 21 years old, I've been learning Python for 1.23 mins.\n",
      "My name is Tim and I am 21 years old, I've been learning Python for 1.23 mins.\n",
      "My name is Tim and I am 21 years old, I've been learning Python for 1.23 mins.\n"
     ]
    }
   ],
   "source": [
    "name = \"Tim\"    # A string\n",
    "age = 21        # An integer\n",
    "time = 1.2345   # A float\n",
    "\n",
    "# F-strings\n",
    "# Formatted String Literals let you include variables within the printed string - need to define type as well\n",
    "print(f'My name is {name} and I am {age} years old, I\\'ve been learning Python for {time:.2f} mins.')\n",
    "\n",
    "# format()\n",
    "# similar to f-strings, instead, you put the variables inside .format() at the end of the message.\n",
    "print('My name is {} and I am {} years old, I\\'ve been learning Python for {:.2f} mins.'.format(name, age, time))"
   ]
  },
  {
   "cell_type": "markdown",
   "metadata": {
    "id": "DGKKgMd3Y0uS"
   },
   "source": [
    "### Operators \n",
    "\n",
    "Like in other programming languages, arithmatic operators allow us to perform arithmatic:"
   ]
  },
  {
   "cell_type": "code",
   "execution_count": 154,
   "metadata": {
    "id": "aFJ1deFbY0uS",
    "outputId": "e372eda4-02e3-49e8-b450-b64f124e68f4"
   },
   "outputs": [
    {
     "name": "stdout",
     "output_type": "stream",
     "text": [
      "5\n",
      "-1\n",
      "6\n",
      "0.6666666666666666\n",
      "0\n",
      "2\n",
      "8\n",
      "1\n"
     ]
    }
   ],
   "source": [
    "a = 2\n",
    "b = 3\n",
    "\n",
    "print(a + b)  # Addition\n",
    "print(a - b)  # Subtraction\n",
    "print(a * b)  # Multiplication\n",
    "print(a / b)  # Division\n",
    "print(a // b) # Integer (or floored) division\n",
    "print(a % b)  # Modulus\n",
    "print(a ** b) # Exponent\n",
    "print(a ^ b)  # NOT EXPONENT (XOR operation)"
   ]
  },
  {
   "cell_type": "markdown",
   "metadata": {
    "id": "jNyLFqyxY0uT"
   },
   "source": [
    "Assignment operators combine assigning values to variables and athithatic operators:"
   ]
  },
  {
   "cell_type": "code",
   "execution_count": 155,
   "metadata": {
    "id": "CaChvA0jY0uT"
   },
   "outputs": [
    {
     "name": "stdout",
     "output_type": "stream",
     "text": [
      "10\n",
      "12\n",
      "9\n",
      "90\n",
      "4.5\n"
     ]
    }
   ],
   "source": [
    "a = 10\n",
    "print(a)\n",
    "a += 2   # a = a + 2\n",
    "print(a)\n",
    "a -= 3   # a = a - 3\n",
    "print(a)\n",
    "a *= 10  # a = a*10\n",
    "print(a)\n",
    "a /= 20  # a = a/20\n",
    "print(a)"
   ]
  },
  {
   "cell_type": "markdown",
   "metadata": {
    "id": "_6D26vq9Y0uU"
   },
   "source": [
    "Comparison operators perform comparisons between variables and return booleans (i.e. True/False):"
   ]
  },
  {
   "cell_type": "code",
   "execution_count": 156,
   "metadata": {
    "id": "KLIdwd0eY0uU"
   },
   "outputs": [
    {
     "name": "stdout",
     "output_type": "stream",
     "text": [
      "False\n",
      "True\n",
      "False\n",
      "True\n",
      "False\n",
      "True\n"
     ]
    }
   ],
   "source": [
    "a = 2\n",
    "b = 3\n",
    "\n",
    "print(a == b) # Equal to\n",
    "print(a != b) # Not equal to\n",
    "print(a > b)  # Greater than\n",
    "print(a < b)  # Less than\n",
    "print(a >= b) # Greater than or equal to\n",
    "print(a <= b) # Less than or equal to"
   ]
  },
  {
   "cell_type": "markdown",
   "metadata": {
    "id": "NQAxEJjSY0uU"
   },
   "source": [
    "Logical operators perform logic operations:"
   ]
  },
  {
   "cell_type": "code",
   "execution_count": 157,
   "metadata": {
    "id": "hKy9VG87Y0uU"
   },
   "outputs": [
    {
     "name": "stdout",
     "output_type": "stream",
     "text": [
      "False\n",
      "True\n",
      "False\n",
      "True\n"
     ]
    }
   ],
   "source": [
    "a = True\n",
    "b = False\n",
    "print(a and b)  # Logical and\n",
    "print(a or b)   # Logical or\n",
    "print(not a)    # Not operator\n",
    "print(not b)    # Not operator"
   ]
  },
  {
   "cell_type": "markdown",
   "metadata": {
    "id": "qu_9BxLbY0uV"
   },
   "source": [
    "### Standard Data Types\n",
    "\n",
    "The data stored in memory can be of many types. For example, a person's age is stored as a numeric value and his or her address is stored as alphanumeric characters. Python has various standard data types that are used to define the operations possible on them and the storage method for each of them.\n",
    "\n",
    "Including the 5 data types introduced at the beginning, Python has these common standard data types:\n",
    "\n",
    "- Number (including `int`, `float` and `complex`)\n",
    "- String\n",
    "- List\n",
    "- Tuple\n",
    "- Dictionary\n"
   ]
  },
  {
   "cell_type": "markdown",
   "metadata": {},
   "source": [
    "Note that the underscore at the end of the variable '`str_`' is to avoid variable name clash with all the pre-defined Python variables or functions. For example '`str`' here is a pre-defined function to turn other variable types to a string as we introduced above."
   ]
  },
  {
   "cell_type": "markdown",
   "metadata": {
    "id": "bLc-R5WBY0uY"
   },
   "source": [
    "### Python Lists \n",
    "\n",
    "Lists are the most versatile of Python's compound data types. A list contains items separated by commas and enclosed within square brackets (`[]`). To some extent, lists are similar to arrays in C. One of the differences between them is that all the items belonging to a list can be of different data type.\n",
    "\n",
    "The values stored in a list can be accessed using the slice operator (`[ ]` and `[:]`) with indexes starting at 0 in the beginning of the list and working their way to end -1. The plus (`+`) sign is the list concatenation operator, and the asterisk (`*`) is the repetition operator. For example −"
   ]
  },
  {
   "cell_type": "code",
   "execution_count": null,
   "metadata": {
    "id": "povsUqbWY0uY",
    "outputId": "5941dc82-1ec8-46be-887e-39b17169554c"
   },
   "outputs": [
    {
     "name": "stdout",
     "output_type": "stream",
     "text": [
      "['abcd', 786, 2.23, 'john', 70.2]\n",
      "abcd\n",
      "[786, 2.23]\n"
     ]
    }
   ],
   "source": [
    "list_ = [ 'abcd', 786 , 2.23, 'john', 70.2 ]\n",
    "\n",
    "print(list_)            # Prints complete list\n",
    "print(list_[0])         # Prints first element of the list\n",
    "print(list_[1:3])       # Prints elements starting from 1st till 2nd"
   ]
  },
  {
   "cell_type": "markdown",
   "metadata": {
    "id": "t3iPSdTbY0uY"
   },
   "source": [
    "The `append()` function can be used to append elements to the end of a list, and the `len()` function can be used to get the length of a list (i.e. the number of elements):"
   ]
  },
  {
   "cell_type": "code",
   "execution_count": null,
   "metadata": {
    "id": "kzJQDsM5Y0uY",
    "outputId": "1aa0d491-fbda-40e3-da05-b3afc8be15a9"
   },
   "outputs": [
    {
     "name": "stdout",
     "output_type": "stream",
     "text": [
      "['abcd', 786, 2.23, 'john', 70.2, 'Another element']\n",
      "6\n"
     ]
    }
   ],
   "source": [
    "list_.append('Another element') #Append element to end of list\n",
    "print(list_)\n",
    "print(len(list_))"
   ]
  },
  {
   "cell_type": "markdown",
   "metadata": {
    "id": "4A2qWZWDY0uZ"
   },
   "source": [
    "### Python Dictionary \n",
    "\n",
    "Python's dictionaries are kind of hash-table type. They work like associative arrays or hashes found in Perl and consist of key-value pairs. A dictionary key can be almost any Python type, but are usually numbers or strings. Values, on the other hand, can be any arbitrary Python object.\n",
    "\n",
    "Dictionaries are enclosed by curly braces (`{ }`) and values can be assigned and accessed using square braces (`[]`). For example −"
   ]
  },
  {
   "cell_type": "code",
   "execution_count": null,
   "metadata": {
    "id": "q10Ytb-LY0ua",
    "outputId": "a4add0e4-3239-4818-90d6-74894e36f96b"
   },
   "outputs": [
    {
     "name": "stdout",
     "output_type": "stream",
     "text": [
      "This is one\n",
      "This is two\n",
      "{'name': 'john', 'code': 6734, 'dept': 'sales'}\n",
      "dict_keys(['name', 'code', 'dept'])\n",
      "dict_values(['john', 6734, 'sales'])\n"
     ]
    }
   ],
   "source": [
    "dict_ = {}\n",
    "dict_['one'] = \"This is one\"\n",
    "dict_[2]     = \"This is two\"\n",
    "\n",
    "tinydict = {'name': 'john','code':6734, 'dept': 'sales'}\n",
    "\n",
    "print (dict_['one'])       # Prints value for key 'one'\n",
    "print (dict_[2])           # Prints value for key 2 \n",
    "print (tinydict)          # Prints complete dictionary\n",
    "print (tinydict.keys())   # Prints all the keys\n",
    "print (tinydict.values()) # Prints all the values"
   ]
  },
  {
   "cell_type": "markdown",
   "metadata": {
    "id": "E5hj701LY0ua"
   },
   "source": [
    "Dictionaries have no concept of order among the elements. In addition, if you're not sure about the data type of a variable, you can use the `type()` function to check. See [here](https://www.programiz.com/python-programming/methods/built-in/type) for documentation about `type`."
   ]
  },
  {
   "cell_type": "code",
   "execution_count": null,
   "metadata": {},
   "outputs": [
    {
     "name": "stdout",
     "output_type": "stream",
     "text": [
      "<class 'float'> <class 'list'>\n"
     ]
    }
   ],
   "source": [
    "var1_unknown = 1.23\n",
    "var2_unknown = [1, 'string']\n",
    "\n",
    "print(type(var1_unknown), type(var2_unknown))"
   ]
  },
  {
   "cell_type": "markdown",
   "metadata": {
    "id": "d5K-GHd6Y0ua"
   },
   "source": [
    "## Conditional Statements \n",
    "\n",
    "Note the usage of colons and identation. This is analogous to C's curly brackets which defines the scope of a function/conditional statement"
   ]
  },
  {
   "cell_type": "code",
   "execution_count": null,
   "metadata": {
    "id": "Lqzcs8o1Y0ua",
    "outputId": "aaddc970-b8ef-458e-81d9-67ac15b25bdb"
   },
   "outputs": [
    {
     "name": "stdout",
     "output_type": "stream",
     "text": [
      "Value of expression is 100\n"
     ]
    }
   ],
   "source": [
    "var = 100\n",
    "\n",
    "if (var==50):\n",
    "    print('Value of expression is 50')\n",
    "elif(var==100): # else if statement is written as 'elif' in python.\n",
    "    print('Value of expression is 100')\n",
    "else:\n",
    "    print('Value of expression is neither 50 or 100')"
   ]
  },
  {
   "cell_type": "markdown",
   "metadata": {},
   "source": [
    "## Time to try"
   ]
  },
  {
   "cell_type": "markdown",
   "metadata": {},
   "source": [
    "### Write an if statement to check whether this year (2023) is a leap year.\n",
    "\n",
    "__Note__: If the year is divisible by 4 and not divisible by 100, or if it is divisible by 400, then it is a leap year"
   ]
  },
  {
   "cell_type": "code",
   "execution_count": null,
   "metadata": {},
   "outputs": [],
   "source": [
    "year = 2023\n",
    "\n",
    "if year % 4 ==0 and year % 100 != 0:\n",
    "    # This type of printing is useful. You need to use the print statement, along with \"f\" before the string. \n",
    "    # Use the curly brackets to place in your variables\n",
    "    print(f\"The year {year} is a leap year\")\n",
    "elif year % 400 == 0：\n",
    "    print(f\"The year {year} is a leap year\")\n",
    "else:\n",
    "    print(f\"The year {year} is not a leap year\") "
   ]
  },
  {
   "cell_type": "markdown",
   "metadata": {
    "id": "a6hZs7XyY0ub"
   },
   "source": [
    "## Loops \n",
    "\n",
    "A loop statement allows us to execute a statement or group of statements multiple times. Python has two basic loop types: `while` and `for`.\n",
    "\n",
    "A `while` loop repeats a statement or group of statements while a given condition is `TRUE`. It tests the condition before executing the loop body."
   ]
  },
  {
   "cell_type": "code",
   "execution_count": null,
   "metadata": {
    "id": "4oDvmSqoY0ub"
   },
   "outputs": [
    {
     "name": "stdout",
     "output_type": "stream",
     "text": [
      "0\n",
      "1\n",
      "2\n",
      "3\n"
     ]
    }
   ],
   "source": [
    "counter = 0\n",
    "while counter < 4:\n",
    "    print(counter)\n",
    "    counter += 1"
   ]
  },
  {
   "cell_type": "markdown",
   "metadata": {
    "id": "t8OzQk9iY0ub"
   },
   "source": [
    "A `for` loop iterates over a sequence, such as a `list`, `tuple` or `string`. The same loop as above can be writen in the following ways:"
   ]
  },
  {
   "cell_type": "code",
   "execution_count": null,
   "metadata": {
    "id": "cO2jLVaJY0uc",
    "outputId": "0ef4d7cc-f1f5-4dbf-8fa3-c70d1941811d"
   },
   "outputs": [
    {
     "name": "stdout",
     "output_type": "stream",
     "text": [
      "0\n",
      "1\n",
      "2\n",
      "3\n"
     ]
    }
   ],
   "source": [
    "numbers = [0,1,2,3]\n",
    "for counter in numbers:\n",
    "    print(counter)"
   ]
  },
  {
   "cell_type": "markdown",
   "metadata": {},
   "source": [
    "To create a sequence of numbers quickly, you can use the `range()` function. See this [document](https://www.programiz.com/python-programming/methods/built-in/range) for more details:\n",
    "\n"
   ]
  },
  {
   "cell_type": "code",
   "execution_count": null,
   "metadata": {
    "id": "ZgIIXqqLY0uc",
    "outputId": "585a4367-19be-4d94-cca5-4cedb855d73e"
   },
   "outputs": [
    {
     "name": "stdout",
     "output_type": "stream",
     "text": [
      "20\n",
      "18\n",
      "16\n",
      "14\n",
      "12\n"
     ]
    }
   ],
   "source": [
    "for counter in range(20, 10, -2):\n",
    "    print(counter)"
   ]
  },
  {
   "cell_type": "markdown",
   "metadata": {
    "id": "R7IWq5txY0uc"
   },
   "source": [
    "Want to escape from the loop? Use:\n",
    "\n",
    "\"`break`\" - Exit the loop immediately\n",
    "\n",
    "Want to skip this iteration of loop? Use:\n",
    "\n",
    "\"`continue`\" - End this iteration of the loop imediately, but continue with the next iteration\n"
   ]
  },
  {
   "cell_type": "code",
   "execution_count": null,
   "metadata": {
    "id": "xZZh5rPBY0uc",
    "outputId": "abe7c75e-564d-4b83-8daa-1b786ec67284"
   },
   "outputs": [
    {
     "name": "stdout",
     "output_type": "stream",
     "text": [
      "4\n",
      "5\n",
      "6\n",
      "7\n"
     ]
    }
   ],
   "source": [
    "for counter in range(10):\n",
    "    if counter-4 < 0:\n",
    "        continue\n",
    "        \n",
    "    print(counter)\n",
    "    \n",
    "    if counter == 7:\n",
    "        break"
   ]
  },
  {
   "cell_type": "markdown",
   "metadata": {
    "id": "e8rMlTjSY0ud"
   },
   "source": [
    "## Functions \n",
    "\n",
    "A function is a block of code that runs when it is called. Functions are created using the \"`def`\" keyword."
   ]
  },
  {
   "cell_type": "code",
   "execution_count": null,
   "metadata": {
    "id": "SI4uMQcmY0ue"
   },
   "outputs": [],
   "source": [
    "def print_function():\n",
    "    print(\"Printing inside a function!\")"
   ]
  },
  {
   "cell_type": "markdown",
   "metadata": {
    "id": "OmFIf-rkY0ue"
   },
   "source": [
    "A function is called by using the function name with paranthesis:"
   ]
  },
  {
   "cell_type": "code",
   "execution_count": null,
   "metadata": {
    "id": "hpS7n2LCY0ue",
    "outputId": "ead5695c-33b1-457f-e59a-d4dc70f27594"
   },
   "outputs": [
    {
     "name": "stdout",
     "output_type": "stream",
     "text": [
      "Printing inside a function!\n"
     ]
    }
   ],
   "source": [
    "print_function()"
   ]
  },
  {
   "cell_type": "markdown",
   "metadata": {
    "id": "eJGbJFEyY0ue"
   },
   "source": [
    "### Arguments \n",
    "\n",
    "Information (such as values, lists, tuples, dicts etc.) can be passed to a function as arguments:"
   ]
  },
  {
   "cell_type": "markdown",
   "metadata": {
    "id": "VlvGizQVY0uf"
   },
   "source": [
    "We can pass several arguments:"
   ]
  },
  {
   "cell_type": "code",
   "execution_count": null,
   "metadata": {
    "id": "JSTWAOJ1Y0uf",
    "outputId": "abd73872-75c5-428c-84e9-9b2f4f5041a9"
   },
   "outputs": [
    {
     "name": "stdout",
     "output_type": "stream",
     "text": [
      "15\n"
     ]
    }
   ],
   "source": [
    "def my_multiply(a,b):\n",
    "    print(a*b)\n",
    "\n",
    "my_multiply(3,5)"
   ]
  },
  {
   "cell_type": "markdown",
   "metadata": {
    "id": "bvme1BWPY0uf"
   },
   "source": [
    "We can also assign default values to arguments, so the user doesn't need to provide them if they don't want to. Below, the argument denominator wil be assigned the value 10, unless it is overriden in the function call:"
   ]
  },
  {
   "cell_type": "code",
   "execution_count": null,
   "metadata": {
    "id": "5QRqvr0-Y0uf",
    "outputId": "f61831fd-fa63-4113-9a5b-3e8ca239c512"
   },
   "outputs": [
    {
     "name": "stdout",
     "output_type": "stream",
     "text": [
      "30.0\n",
      "60.0\n",
      "60.0\n"
     ]
    }
   ],
   "source": [
    "def divide(numerator, denominator = 10):\n",
    "    return(numerator/denominator)\n",
    "    \n",
    "print(divide(300))\n",
    "print(divide(300, 5))\n",
    "\n",
    "# We can also provide arguments to a function using keywords - that way we don't need to have them in the correct order:\n",
    "print(divide(denominator=5, numerator=300)) # 300/5"
   ]
  },
  {
   "cell_type": "markdown",
   "metadata": {},
   "source": [
    "## Time to try"
   ]
  },
  {
   "cell_type": "markdown",
   "metadata": {},
   "source": [
    "### Write a function that find the [hypotenuse](https://en.wikipedia.org/wiki/Pythagorean_theorem) of a right triangle (Hint: use the Pythagorean theorem).\n",
    "\n",
    "\n",
    "\n",
    "E.g. compute_hypotenuse(3, 4) → output: 5.0"
   ]
  },
  {
   "cell_type": "code",
   "execution_count": null,
   "metadata": {},
   "outputs": [],
   "source": [
    "def compute_hypotenuse(side1, side2):\n",
    "    \n",
    "    # Inputs:\n",
    "    # side1 - the input argument for one side of the triangle\n",
    "    # side2 - the input argument for another side of the triangle\n",
    "    \n",
    "    # Outputs:\n",
    "    # hypotenuse - the calculated output from side1 and side2\n",
    "    \n",
    "    hypotenuse = (side1**2+side2**2)**0.5\n",
    "    \n",
    "    return hypotenuse ## Return the calculation here\n",
    "\n",
    "a = 3\n",
    "b = 4\n",
    "c = compute_hypotenuse(a, b)\n",
    "print(c)"
   ]
  },
  {
   "cell_type": "markdown",
   "metadata": {},
   "source": [
    "<div class=\"alert alert-block alert-info\">\n",
    "\n",
    "# 2. NumPy basics\n",
    "\n",
    "We will be using the NumPy in this workshop! Numpy is the core library for scientific computing in Python. It provides a high-performance multidimensional array object, and tools for working with these arrays. If you are already familiar with MATLAB, you might find this tutorial useful to get started with Numpy.\n",
    "\n",
    "<img src=\"https://upload.wikimedia.org/wikipedia/commons/1/1a/NumPy_logo.svg\" width=\"400\" align=\"center\">"
   ]
  },
  {
   "cell_type": "markdown",
   "metadata": {},
   "source": [
    "## Numpy Documentation\n",
    "\n",
    "The official NumPy [documentation](https://numpy.org/doc/stable/) serves as a comprehensive resource for learning and utilizing the library. It contains detailed explanations of NumPy's functions, methods, and objects, along with examples and usage guidelines. \n"
   ]
  },
  {
   "cell_type": "markdown",
   "metadata": {},
   "source": [
    "## Install NumPy Libaray\n",
    "\n",
    "If you have already installed Numpy following the Anaconda installation instruction, you can skip this step.\n",
    "\n",
    "If you haven't, you can install Numpy using `pip` in Jupyter notebook by simply putting a `!` mark before terminal commands."
   ]
  },
  {
   "cell_type": "code",
   "execution_count": 1,
   "metadata": {},
   "outputs": [
    {
     "name": "stdout",
     "output_type": "stream",
     "text": [
      "Requirement already satisfied: numpy in c:\\users\\hjia0058\\anaconda3\\lib\\site-packages (1.21.5)\n"
     ]
    }
   ],
   "source": [
    "!pip install numpy"
   ]
  },
  {
   "cell_type": "markdown",
   "metadata": {},
   "source": [
    "## Importing NumPy Library\n",
    "\n",
    "To import the NumPy library (or any library) in Python, you can use the `import` keyword followed by the library name:"
   ]
  },
  {
   "cell_type": "code",
   "execution_count": 2,
   "metadata": {},
   "outputs": [],
   "source": [
    "import numpy as np"
   ]
  },
  {
   "cell_type": "markdown",
   "metadata": {},
   "source": [
    "With this import statement, you can access NumPy functions and objects using the `np` alias. For instance, you can create a NumPy array by calling `np.array()`.\n",
    "\n",
    "Using the `np` alias is a common practice in the Python community as it reduces the amount of typing required when working with NumPy functions and improves code readability.\n",
    "\n",
    "Once you have imported NumPy, you can start using its functionality in your Python script or interactive session. Remember to ensure that NumPy is installed in your Python environment before attempting to import it."
   ]
  },
  {
   "cell_type": "markdown",
   "metadata": {},
   "source": [
    "## Numpy Arrays and Indexing\n",
    "\n",
    "A NumPy array is a grid of values, where all the values have the same type and are indexed using nonnegative integers. The array's rank refers to the number of dimensions it has, and its shape is defined by a tuple of integers indicating the size along each dimension.\n",
    "\n",
    "NumPy arrays can be created by passing nested Python lists as input, and individual elements can be accessed using square brackets."
   ]
  },
  {
   "cell_type": "code",
   "execution_count": 81,
   "metadata": {},
   "outputs": [
    {
     "name": "stdout",
     "output_type": "stream",
     "text": [
      "<class 'numpy.ndarray'>\n",
      "(3,)\n",
      "1 2 3\n",
      "[5 2 3]\n",
      "(2, 3)\n",
      "1 2 4\n"
     ]
    }
   ],
   "source": [
    "a = np.array([1, 2, 3])   # Create a numpy array (rank 1 array) - basically, passing a list into np.array() function\n",
    "print(type(a))            # Prints the type of the array\n",
    "print(a.shape)            # Prints the shape of the array\n",
    "print(a[0], a[1], a[2])   # Prints the 1st, 2nd and 3rd element of the array\n",
    "a[0] = 5                  # Change the 1st element of the array\n",
    "print(a)                  # Prints the modified array\n",
    "\n",
    "b = np.array([[1,2,3],[4,5,6]])    # Create a rank 2 array\n",
    "print(b.shape)                     # Prints the shape of the array\n",
    "print(b[0, 0], b[0, 1], b[1, 0])   # Prints some elements using indexing"
   ]
  },
  {
   "cell_type": "markdown",
   "metadata": {},
   "source": [
    "Numpy also provides many functions to create arrays/matrices:"
   ]
  },
  {
   "cell_type": "code",
   "execution_count": 82,
   "metadata": {},
   "outputs": [
    {
     "name": "stdout",
     "output_type": "stream",
     "text": [
      "[[0. 0.]\n",
      " [0. 0.]]\n",
      "[[1. 1.]\n",
      " [1. 1.]]\n",
      "[[7 7]\n",
      " [7 7]]\n",
      "[[1. 0.]\n",
      " [0. 1.]]\n",
      "[[0.2422035  0.46171953]\n",
      " [0.4837421  0.78037983]]\n"
     ]
    }
   ],
   "source": [
    "a = np.zeros((2,2))   # Create an array of all zeros\n",
    "print(a)              # Prints \"[[ 0.  0.]\n",
    "                      #          [ 0.  0.]]\"\n",
    "\n",
    "b = np.ones((2,2))    # Create an array of all ones\n",
    "print(b)              # Prints \"[[ 1.  1.]\n",
    "                      #          [ 1.  1.]]\"\n",
    "\n",
    "c = np.full((2,2), 7)  # Create a constant array\n",
    "print(c)               # Prints \"[[ 7.  7.]\n",
    "                       #          [ 7.  7.]]\"\n",
    "\n",
    "d = np.eye(2)         # Create a 2x2 identity matrix\n",
    "print(d)              # Prints \"[[ 1.  0.]\n",
    "                      #          [ 0.  1.]]\"\n",
    "\n",
    "e = np.random.random((2,2))  # Create an array filled with random values\n",
    "print(e)"
   ]
  },
  {
   "cell_type": "markdown",
   "metadata": {},
   "source": [
    "## Time to try\n",
    "\n",
    "Using NumPy to perform the following tasks:\n",
    "\n",
    "a. Create a NumPy array of size 4x4 filled with random integers between 1 and 10.\n",
    "\n",
    "b. Print the array.\n",
    "\n",
    "c. Print the shape of the array.\n",
    "\n",
    "d. Access and print the element in the second row and third column.\n",
    "\n",
    "Check out the numpy function `np.random.randint()`. Search it on Google. (your best coding assistant!)\n",
    "\n",
    "<details>\n",
    "<summary style=\"color: yellow; font-weight: bold;\">Hint</summary>\n",
    "\n",
    "Document for `np.random.randint()`:\n",
    "https://numpy.org/doc/stable/reference/random/generated/numpy.random.randint.html\n",
    "\n",
    "```python\n",
    "# Create a 4x4 array filled with random integers between 1 and 10\n",
    "arr = np.random.randint(1, 11, size=(4, 4))\n",
    "\n",
    "# Print the array\n",
    "print(\"Array:\")\n",
    "print(arr)\n",
    "\n",
    "# Print the shape of the array\n",
    "print(\"Array shape:\")\n",
    "print(arr.shape)\n",
    "\n",
    "# Access and print the element in the second row and third column\n",
    "print(\"Element in the second row and third column:\", arr[1, 2])\n",
    "```\n",
    "\n",
    "</details>"
   ]
  },
  {
   "cell_type": "code",
   "execution_count": 4,
   "metadata": {},
   "outputs": [],
   "source": [
    "# Put your code here"
   ]
  },
  {
   "cell_type": "markdown",
   "metadata": {},
   "source": [
    "## Array slicing\n",
    "\n",
    "NumPy provides various methods for indexing arrays.\n",
    "\n",
    "One of the methods is slicing, which is similar to how Python lists are sliced. Since NumPy arrays can have multiple dimensions, you need to specify a slice for each dimension of the array."
   ]
  },
  {
   "cell_type": "code",
   "execution_count": 83,
   "metadata": {},
   "outputs": [
    {
     "name": "stdout",
     "output_type": "stream",
     "text": [
      "[[2 3]\n",
      " [5 6]]\n",
      "2\n",
      "99\n"
     ]
    }
   ],
   "source": [
    "# Create the following rank 2 array with shape (2, 3)\n",
    "# [[ 1  2  3 ]\n",
    "#  [ 4  5  6 ]\n",
    "#  [ 7  8  9 ]]\n",
    "a = np.array([[1,2,3], [4,5,6], [7,8,9]])\n",
    "\n",
    "# Use slicing to pull out the subarray consisting of the first 2 rows\n",
    "# and columns 1 and 2; b is the following array of shape (2, 2):\n",
    "# [[2 3]\n",
    "#  [5 6]]\n",
    "b = a[:2, 1:3]\n",
    "print(b)\n",
    "\n",
    "# A slice of an array is a view into the same data, so modifying it\n",
    "# will modify the original array.\n",
    "print(a[0, 1])   # Prints \"2\"\n",
    "b[0, 0] = 99     # b[0, 0] is the same piece of data as a[0, 1]\n",
    "print(a[0, 1])   # Prints \"99\""
   ]
  },
  {
   "cell_type": "markdown",
   "metadata": {},
   "source": [
    "In addition, it is possible to combine integer indexing with slice indexing. However, this operation will result in an array with a lower rank compared to the original array.\n",
    "\n",
    "It is worth noting that this behavior differs significantly from how array slicing is handled in MATLAB."
   ]
  },
  {
   "cell_type": "code",
   "execution_count": 84,
   "metadata": {},
   "outputs": [
    {
     "name": "stdout",
     "output_type": "stream",
     "text": [
      "[4 5 6] (3,)\n",
      "[[4 5 6]] (1, 3)\n",
      "[2 5 8] (3,)\n",
      "[[2]\n",
      " [5]\n",
      " [8]] (3, 1)\n"
     ]
    }
   ],
   "source": [
    "# Create the following rank 2 array with shape (2, 3)\n",
    "# [[ 1  2  3 ]\n",
    "#  [ 4  5  6 ]\n",
    "#  [ 7  8  9 ]]\n",
    "a = np.array([[1,2,3], [4,5,6], [7,8,9]])\n",
    "\n",
    "# Two ways of accessing the data in the middle row of the array.\n",
    "# Mixing integer indexing with slices yields an array of lower rank,\n",
    "# while using only slices yields an array of the same rank as the\n",
    "# original array:\n",
    "row_r1 = a[1, :]    # Rank 1 view of the second row of a\n",
    "row_r2 = a[1:2, :]  # Rank 2 view of the second row of a\n",
    "print(row_r1, row_r1.shape)  # Prints \"[4 5 6] (3,)\"\n",
    "print(row_r2, row_r2.shape)  # Prints \"[[4 5 6]] (1, 3)\"\n",
    "\n",
    "# We can make the same distinction when accessing columns of an array:\n",
    "col_r1 = a[:, 1]\n",
    "col_r2 = a[:, 1:2]\n",
    "print(col_r1, col_r1.shape)  # Prints \"[ 2 5 8] (3,)\"\n",
    "print(col_r2, col_r2.shape)  # Prints \"[[ 2]\n",
    "                             #          [ 5]\n",
    "                             #          [ 8]] (3, 1)\""
   ]
  },
  {
   "cell_type": "markdown",
   "metadata": {},
   "source": [
    "## Time to try\n",
    "\n",
    "Using NumPy to perform the following tasks:\n",
    "\n",
    "a. Create a 4x4 NumPy array filled with integers from 1 to 16.\n",
    "\n",
    "b. Extract the first row of the array. Then modify the first element in the subarray to 99.\n",
    "\n",
    "c. Extract the last column of the array. Then modify the second element in the subarray to 88.\n",
    "\n",
    "d. Extract the 2x2 central array of the array. Then modify the second row second column element of the subarray to 77.\n",
    "\n",
    "e. Now print the final 4x4 Numpy array.\n",
    "\n",
    "\n",
    "<details>\n",
    "<summary style=\"color: yellow; font-weight: bold;\">Hint</summary>\n",
    "\n",
    "```python\n",
    "# Create a 4x4 array filled with integers from 1 to 16\n",
    "array_4x4 = np.arange(1, 17).reshape(4, 4)\n",
    "print(\"Original Array:\")\n",
    "print(array_4x4)\n",
    "print()\n",
    "\n",
    "# Extract the first row of the array\n",
    "first_row = array_4x4[0, :]\n",
    "print(\"First Row:\")\n",
    "print(first_row)\n",
    "first_row[0] = 99  # Modify the first element in the subarray\n",
    "print(\"Modified First Row:\")\n",
    "print(first_row)\n",
    "print()\n",
    "\n",
    "# Extract the last column of the array\n",
    "last_column = array_4x4[:, -1]\n",
    "print(\"Last Column:\")\n",
    "print(last_column)\n",
    "last_column[1] = 88  # Modify the second element in the subarray\n",
    "print(\"Modified Last Column:\")\n",
    "print(last_column)\n",
    "print()\n",
    "\n",
    "# Extract the 2x2 central array of the array\n",
    "central_array = array_4x4[1:3, 1:3]\n",
    "print(\"2x2 Central Array:\")\n",
    "print(central_array)\n",
    "central_array[1, 1] = 77  # Modify the second row second column element of the subarray\n",
    "print(\"Modified 2x2 Central Array:\")\n",
    "print(central_array)\n",
    "print()\n",
    "\n",
    "# Print the 4x4 NumPy array\n",
    "print(\"Final 4x4 NumPy Array:\")\n",
    "print(array_4x4)\n",
    "```\n",
    "\n",
    "</details>"
   ]
  },
  {
   "cell_type": "code",
   "execution_count": 6,
   "metadata": {},
   "outputs": [],
   "source": [
    "# Put your code here."
   ]
  },
  {
   "cell_type": "markdown",
   "metadata": {},
   "source": [
    "## Array math\n",
    "\n",
    "Basic mathematical functions operate elementwise on arrays, and are available both as operator overloads and as functions in the numpy module:"
   ]
  },
  {
   "cell_type": "code",
   "execution_count": 89,
   "metadata": {},
   "outputs": [
    {
     "name": "stdout",
     "output_type": "stream",
     "text": [
      "[[ 6.  8.]\n",
      " [10. 12.]]\n",
      "[[ 6.  8.]\n",
      " [10. 12.]]\n",
      "[[-4. -4.]\n",
      " [-4. -4.]]\n",
      "[[-4. -4.]\n",
      " [-4. -4.]]\n",
      "[[ 5. 12.]\n",
      " [21. 32.]]\n",
      "[[ 5. 12.]\n",
      " [21. 32.]]\n",
      "[[0.2        0.33333333]\n",
      " [0.42857143 0.5       ]]\n",
      "[[0.2        0.33333333]\n",
      " [0.42857143 0.5       ]]\n",
      "[[1.         1.41421356]\n",
      " [1.73205081 2.        ]]\n"
     ]
    }
   ],
   "source": [
    "x = np.array([[1,2],[3,4]], dtype=np.float64)\n",
    "y = np.array([[5,6],[7,8]], dtype=np.float64)\n",
    "\n",
    "# Elementwise sum; both produce the array\n",
    "# [[ 6.0  8.0]\n",
    "#  [10.0 12.0]]\n",
    "print(x + y)\n",
    "\n",
    "\n",
    "# Elementwise difference; both produce the array\n",
    "# [[-4.0 -4.0]\n",
    "#  [-4.0 -4.0]]\n",
    "print(x - y)\n",
    "\n",
    "\n",
    "# Elementwise product; both produce the array\n",
    "# [[ 5.0 12.0]\n",
    "#  [21.0 32.0]]\n",
    "print(x * y)\n",
    "\n",
    "\n",
    "# Elementwise division; both produce the array\n",
    "# [[ 0.2         0.33333333]\n",
    "#  [ 0.42857143  0.5       ]]\n",
    "print(x / y)\n",
    "\n",
    "\n",
    "# Elementwise square root; produces the array\n",
    "# [[ 1.          1.41421356]\n",
    "#  [ 1.73205081  2.        ]]\n",
    "print(np.sqrt(x))"
   ]
  },
  {
   "cell_type": "markdown",
   "metadata": {},
   "source": [
    "Numpy provides many useful functions for performing computations on arrays; one of the most useful is sum:"
   ]
  },
  {
   "cell_type": "code",
   "execution_count": 91,
   "metadata": {},
   "outputs": [
    {
     "name": "stdout",
     "output_type": "stream",
     "text": [
      "[[1 2]\n",
      " [3 4]]\n",
      "10\n",
      "[4 6]\n",
      "[3 7]\n"
     ]
    }
   ],
   "source": [
    "x = np.array([[1,2],[3,4]])\n",
    "\n",
    "print(x)\n",
    "print(np.sum(x))  # Compute sum of all elements; prints \"10\"\n",
    "print(np.sum(x, axis=0))  # Compute sum of each column; prints \"[4 6]\"\n",
    "print(np.sum(x, axis=1))  # Compute sum of each row; prints \"[3 7]\""
   ]
  },
  {
   "cell_type": "markdown",
   "metadata": {},
   "source": [
    "Apart from computing mathematical functions using arrays, we frequently need to reshape or otherwise manipulate data in arrays. The simplest example of this type of operation is transposing a matrix; to transpose a matrix, simply use the T attribute of an array object"
   ]
  },
  {
   "cell_type": "code",
   "execution_count": 92,
   "metadata": {},
   "outputs": [
    {
     "name": "stdout",
     "output_type": "stream",
     "text": [
      "[[1 2]\n",
      " [3 4]]\n",
      "[[1 3]\n",
      " [2 4]]\n",
      "[1 2 3]\n",
      "[1 2 3]\n"
     ]
    }
   ],
   "source": [
    "x = np.array([[1,2], [3,4]])\n",
    "print(x)    # Prints \"[[1 2]\n",
    "            #          [3 4]]\"\n",
    "print(x.T)  # Prints \"[[1 3]\n",
    "            #          [2 4]]\""
   ]
  },
  {
   "cell_type": "markdown",
   "metadata": {},
   "source": [
    "The `np.mean()` function calculates the mean (average) of an array."
   ]
  },
  {
   "cell_type": "code",
   "execution_count": 95,
   "metadata": {},
   "outputs": [
    {
     "name": "stdout",
     "output_type": "stream",
     "text": [
      "3.0\n"
     ]
    }
   ],
   "source": [
    "x = np.array([1, 2, 3, 4, 5])\n",
    "\n",
    "mean = np.mean(x)\n",
    "\n",
    "print(mean)  # Output: 3.0"
   ]
  },
  {
   "cell_type": "markdown",
   "metadata": {},
   "source": [
    "In this example, the mean of the elements in the array x is calculated and stored in the mean variable."
   ]
  },
  {
   "cell_type": "markdown",
   "metadata": {},
   "source": [
    "The `np.max()` function finds the maximum value in an array."
   ]
  },
  {
   "cell_type": "code",
   "execution_count": 96,
   "metadata": {},
   "outputs": [
    {
     "name": "stdout",
     "output_type": "stream",
     "text": [
      "12\n"
     ]
    }
   ],
   "source": [
    "x = np.array([10, 5, 8, 12, 3])\n",
    "\n",
    "max_value = np.max(x)\n",
    "\n",
    "print(max_value)  # Output: 12"
   ]
  },
  {
   "cell_type": "markdown",
   "metadata": {},
   "source": [
    "In this example, the maximum value in the array x is found and stored in the max_value variable.\n",
    "\n",
    "These are just a few examples of the many functions available in NumPy. The library offers a wide range of functions for various mathematical operations, array manipulation, statistical calculations, and much more."
   ]
  },
  {
   "cell_type": "markdown",
   "metadata": {},
   "source": [
    "Matrix multiplication in Numpy is fairly easy as well."
   ]
  },
  {
   "cell_type": "code",
   "execution_count": 3,
   "metadata": {},
   "outputs": [
    {
     "name": "stdout",
     "output_type": "stream",
     "text": [
      "Result using np.dot():\n",
      "[[ 58  64]\n",
      " [139 154]]\n",
      "\n",
      "Result using @ operator:\n",
      "[[ 58  64]\n",
      " [139 154]]\n"
     ]
    }
   ],
   "source": [
    "# Define matrices A and B\n",
    "A = np.array([[1, 2, 3],\n",
    "              [4, 5, 6]])\n",
    "\n",
    "B = np.array([[7, 8],\n",
    "              [9, 10],\n",
    "              [11, 12]])\n",
    "\n",
    "# Matrix multiplication using numpy.dot()\n",
    "result_dot = np.dot(A, B)\n",
    "# Matrix multiplication using @ operator\n",
    "result_at_operator = A @ B\n",
    "\n",
    "print(\"Result using np.dot():\")\n",
    "print(result_dot)\n",
    "\n",
    "print(\"\\nResult using @ operator:\")\n",
    "print(result_at_operator)"
   ]
  },
  {
   "cell_type": "markdown",
   "metadata": {},
   "source": [
    "## Time to try\n",
    "\n",
    "Using NumPy to perform the following tasks:\n",
    "\n",
    "a. Create two 2x2 NumPy arrays filled with 1 to 4 and 5 to 8.\n",
    "\n",
    "b. Compute and print the element-wise sum, difference, product, and division of the arrays.\n",
    "\n",
    "c. Print the sum of all elements, the maximum and the minimum value in one of the arrays.\n",
    "\n",
    "d. Print the transpose of one of the arrays.\n",
    "\n",
    "e. Perform matrix multiplication between the first array and the traspose of the second array, and print the results.\n",
    "\n",
    "<details>\n",
    "<summary style=\"color: yellow; font-weight: bold;\">Hint</summary>\n",
    "\n",
    "```python\n",
    "# a.\n",
    "array1 = np.arange(1, 5).reshape(2, 2)\n",
    "array2 = np.arange(5, 9).reshape(2, 2)\n",
    "print(\"Array 1:\")\n",
    "print(array1)\n",
    "print(\"\\nArray 2:\")\n",
    "print(array2)\n",
    "\n",
    "# b.\n",
    "print(\"\\nElement-wise Sum:\")\n",
    "print(array1 + array2)\n",
    "\n",
    "print(\"\\nElement-wise Difference:\")\n",
    "print(array1 - array2)\n",
    "\n",
    "print(\"\\nElement-wise Product:\")\n",
    "print(array1 * array2)\n",
    "\n",
    "print(\"\\nElement-wise Division:\")\n",
    "print(array1 / array2)\n",
    "\n",
    "# c.\n",
    "print(\"\\nSum of all elements in Array 1:\", np.sum(array1))\n",
    "print(\"Maximum value in Array 1:\", np.max(array1))\n",
    "print(\"Minimum value in Array 1:\", np.min(array1))\n",
    "\n",
    "# d.\n",
    "print(\"\\nTranspose of Array 2:\")\n",
    "print(np.transpose(array2))\n",
    "\n",
    "# e.\n",
    "print(\"\\nMatrix Multiplication:\")\n",
    "result = np.dot(array1, np.transpose(array2))\n",
    "print(result)\n",
    "\n",
    "```\n",
    "\n",
    "</details>"
   ]
  },
  {
   "cell_type": "code",
   "execution_count": 7,
   "metadata": {},
   "outputs": [],
   "source": [
    "# Put your code here"
   ]
  },
  {
   "cell_type": "markdown",
   "metadata": {},
   "source": [
    "<div class=\"alert alert-block alert-info\">\n",
    "\n",
    "# 3. Matplotlib basics <a class=\"anchor\" id=\"matplotlib\"></a>\n",
    "\n",
    "<img src=\"https://matplotlib.org/stable/_images/sphx_glr_logos2_003.png\" width=\"400\" />\n",
    "\n",
    "Matplotlib is a popular Python library used for creating visualizations and plots. It provides a wide range of plotting functions and options, allowing users to create line plots, scatter plots, bar plots, histograms, and many other types of charts. Matplotlib provides a flexible and customizable interface, enabling users to fine-tune their plots with various styling options, labels, titles, and annotations. With its intuitive API and extensive documentation, Matplotlib is widely used in data exploration, scientific research, and data visualization tasks in Python."
   ]
  },
  {
   "cell_type": "markdown",
   "metadata": {},
   "source": [
    "Let's import `matplotlib` and called it `plt` for short."
   ]
  },
  {
   "cell_type": "code",
   "execution_count": 105,
   "metadata": {},
   "outputs": [],
   "source": [
    "import matplotlib.pyplot as plt"
   ]
  },
  {
   "cell_type": "markdown",
   "metadata": {},
   "source": [
    "## Basic plotting\n",
    "Some basic plotting you can do with matplotlib:\n",
    " - Plot y versus x as lines and/or markers with `plot()` function.\n",
    " - A scatter plot of y vs. x with varying marker size and/or color with `scatter()` function."
   ]
  },
  {
   "cell_type": "code",
   "execution_count": 106,
   "metadata": {},
   "outputs": [
    {
     "data": {
      "image/png": "[encoded data removed]",
      "text/plain": [
       "<Figure size 640x480 with 1 Axes>"
      ]
     },
     "metadata": {},
     "output_type": "display_data"
    },
    {
     "data": {
      "image/png": "[encoded data removed]",
      "text/plain": [
       "<Figure size 640x480 with 1 Axes>"
      ]
     },
     "metadata": {},
     "output_type": "display_data"
    }
   ],
   "source": [
    "# Generate some random points\n",
    "x = [15, 20, 34, 49, 58, 62, 79, 88]\n",
    "y = [13, 22, 38, 41, 56, 61, 78, 81]\n",
    "\n",
    "# Plot a line plot using plot()\n",
    "plt.figure()    # Create a new figure\n",
    "plt.plot(x, y, color='b', marker = \"o\") # Plot y against x. Set the color to blue (\"b\") and use circle markers (\"o\")\n",
    "plt.ylabel('Y') # Label the x axis\n",
    "plt.xlabel('X') # Label the y axis\n",
    "plt.title(\"Random points\")  # Set a title for the plot\n",
    "\n",
    "# Scatter the points using scatter()\n",
    "plt.figure()    # Create a new figure\n",
    "plt.scatter(x, y, c = \"r\", marker = \"*\") # Scatter y against x. Set the color to red (\"r\") and use star markers (\"*\")\n",
    "plt.ylabel('Y') # Label the x axis\n",
    "plt.xlabel('X') # Label the y axis\n",
    "plt.title(\"Random points\")  # Set a title for the plot\n",
    "\n",
    "plt.show()  # Show the plots"
   ]
  },
  {
   "cell_type": "markdown",
   "metadata": {},
   "source": [
    "You can overlap plots onto each other in the same figure with legends. You can also annotate specific points if you want."
   ]
  },
  {
   "cell_type": "code",
   "execution_count": 107,
   "metadata": {},
   "outputs": [
    {
     "data": {
      "image/png": "[encoded data removed]",
      "text/plain": [
       "<Figure size 640x480 with 1 Axes>"
      ]
     },
     "metadata": {},
     "output_type": "display_data"
    }
   ],
   "source": [
    "# Generate some random points\n",
    "x = [15, 20, 34, 49, 58, 62, 79, 88]\n",
    "y = [13, 22, 38, 41, 56, 61, 78, 81]\n",
    "z = [17, 26, 33, 47, 53, 66, 72, 87]\n",
    "\n",
    "# Plot a line plot using plot()\n",
    "plt.figure()        # Create a new figure\n",
    "plt.plot(x, y, color='b', marker = \"o\") # Plot y against x. Set the color to blue (\"b\") and use circle markers (\"o\")\n",
    "plt.scatter(x, z, c=\"r\", marker = \"*\") # Scatter z against x on the same figure. Set the color to red (\"r\") and use star markers (\"*\")\n",
    "plt.annotate(\"Here\", xy=(51, 41), color='r') # Annotate at location (51, 41) with red text\n",
    "plt.ylabel('Y/Z')   # Label the x axis\n",
    "plt.xlabel('X')     # Label the y axis\n",
    "plt.legend(['Line plot', 'Scatter plot']) # Add legends\n",
    "plt.title(\"Random points\")  # Set a title for the plot\n",
    "\n",
    "plt.show()  # Show the plots"
   ]
  },
  {
   "cell_type": "markdown",
   "metadata": {},
   "source": [
    "<div class=\"alert alert-block alert-info\">\n",
    "\n",
    "# 4. Pandas basics <a class=\"anchor\" id=\"pandas\"></a>\n",
    "\n",
    "<img src=\"https://pandas.pydata.org/docs/_static/pandas.svg\" width=400 />\n",
    "\n",
    "Pandas is a powerful and widely-used open-source data manipulation and analysis library for Python. It provides easy-to-use data structures, high-performance data analysis tools, and a variety of functions to work with structured data seamlessly. The central data structure in Pandas is the `DataFrame`. Think of it as a two-dimensional table with rows and columns, similar to a spreadsheet. It allows you to store and manipulate labeled data effortlessly.\n",
    "\n",
    "The pandas documentation can be found here: https://pandas.pydata.org/docs/"
   ]
  },
  {
   "cell_type": "markdown",
   "metadata": {},
   "source": [
    "Let's import `pandas` and call `it` pd for short."
   ]
  },
  {
   "cell_type": "code",
   "execution_count": 112,
   "metadata": {},
   "outputs": [],
   "source": [
    "import pandas as pd"
   ]
  },
  {
   "cell_type": "markdown",
   "metadata": {},
   "source": [
    "## Create a DataFrame\n",
    "\n",
    "You can create a DataFrame from various data sources, such as a CSV file, Excel sheet, or even from scratch using Python lists or dictionaries."
   ]
  },
  {
   "cell_type": "code",
   "execution_count": 133,
   "metadata": {},
   "outputs": [
    {
     "name": "stdout",
     "output_type": "stream",
     "text": [
      "      Name  Age           City\n",
      "0    Alice   25       New York\n",
      "1      Bob   30  San Francisco\n",
      "2  Charlie   35    Los Angeles\n"
     ]
    }
   ],
   "source": [
    "# Creating a DataFrame from a dictionary\n",
    "data = {'Name': ['Alice', 'Bob', 'Charlie'],\n",
    "        'Age': [25, 30, 35],\n",
    "        'City': ['New York', 'San Francisco', 'Los Angeles']}\n",
    "\n",
    "df = pd.DataFrame(data)\n",
    "print(df)"
   ]
  },
  {
   "cell_type": "markdown",
   "metadata": {},
   "source": [
    "## Basic Operations"
   ]
  },
  {
   "cell_type": "code",
   "execution_count": 134,
   "metadata": {},
   "outputs": [
    {
     "data": {
      "text/plain": [
       "0      Alice\n",
       "1        Bob\n",
       "2    Charlie\n",
       "Name: Name, dtype: object"
      ]
     },
     "execution_count": 134,
     "metadata": {},
     "output_type": "execute_result"
    }
   ],
   "source": [
    "# Access a single column\n",
    "df['Name']"
   ]
  },
  {
   "cell_type": "code",
   "execution_count": 135,
   "metadata": {},
   "outputs": [
    {
     "data": {
      "text/html": [
       "<div>\n",
       "<style scoped>\n",
       "    .dataframe tbody tr th:only-of-type {\n",
       "        vertical-align: middle;\n",
       "    }\n",
       "\n",
       "    .dataframe tbody tr th {\n",
       "        vertical-align: top;\n",
       "    }\n",
       "\n",
       "    .dataframe thead th {\n",
       "        text-align: right;\n",
       "    }\n",
       "</style>\n",
       "<table border=\"1\" class=\"dataframe\">\n",
       "  <thead>\n",
       "    <tr style=\"text-align: right;\">\n",
       "      <th></th>\n",
       "      <th>Name</th>\n",
       "      <th>Age</th>\n",
       "    </tr>\n",
       "  </thead>\n",
       "  <tbody>\n",
       "    <tr>\n",
       "      <th>0</th>\n",
       "      <td>Alice</td>\n",
       "      <td>25</td>\n",
       "    </tr>\n",
       "    <tr>\n",
       "      <th>1</th>\n",
       "      <td>Bob</td>\n",
       "      <td>30</td>\n",
       "    </tr>\n",
       "    <tr>\n",
       "      <th>2</th>\n",
       "      <td>Charlie</td>\n",
       "      <td>35</td>\n",
       "    </tr>\n",
       "  </tbody>\n",
       "</table>\n",
       "</div>"
      ],
      "text/plain": [
       "      Name  Age\n",
       "0    Alice   25\n",
       "1      Bob   30\n",
       "2  Charlie   35"
      ]
     },
     "execution_count": 135,
     "metadata": {},
     "output_type": "execute_result"
    }
   ],
   "source": [
    "# Access multiple columns\n",
    "df[['Name', 'Age']]"
   ]
  },
  {
   "cell_type": "code",
   "execution_count": 136,
   "metadata": {},
   "outputs": [
    {
     "data": {
      "text/html": [
       "<div>\n",
       "<style scoped>\n",
       "    .dataframe tbody tr th:only-of-type {\n",
       "        vertical-align: middle;\n",
       "    }\n",
       "\n",
       "    .dataframe tbody tr th {\n",
       "        vertical-align: top;\n",
       "    }\n",
       "\n",
       "    .dataframe thead th {\n",
       "        text-align: right;\n",
       "    }\n",
       "</style>\n",
       "<table border=\"1\" class=\"dataframe\">\n",
       "  <thead>\n",
       "    <tr style=\"text-align: right;\">\n",
       "      <th></th>\n",
       "      <th>Name</th>\n",
       "      <th>Age</th>\n",
       "      <th>City</th>\n",
       "    </tr>\n",
       "  </thead>\n",
       "  <tbody>\n",
       "    <tr>\n",
       "      <th>2</th>\n",
       "      <td>Charlie</td>\n",
       "      <td>35</td>\n",
       "      <td>Los Angeles</td>\n",
       "    </tr>\n",
       "  </tbody>\n",
       "</table>\n",
       "</div>"
      ],
      "text/plain": [
       "      Name  Age         City\n",
       "2  Charlie   35  Los Angeles"
      ]
     },
     "execution_count": 136,
     "metadata": {},
     "output_type": "execute_result"
    }
   ],
   "source": [
    "# Filter based on a condition\n",
    "df[df['Age'] > 30]"
   ]
  },
  {
   "cell_type": "code",
   "execution_count": 137,
   "metadata": {},
   "outputs": [
    {
     "data": {
      "text/html": [
       "<div>\n",
       "<style scoped>\n",
       "    .dataframe tbody tr th:only-of-type {\n",
       "        vertical-align: middle;\n",
       "    }\n",
       "\n",
       "    .dataframe tbody tr th {\n",
       "        vertical-align: top;\n",
       "    }\n",
       "\n",
       "    .dataframe thead th {\n",
       "        text-align: right;\n",
       "    }\n",
       "</style>\n",
       "<table border=\"1\" class=\"dataframe\">\n",
       "  <thead>\n",
       "    <tr style=\"text-align: right;\">\n",
       "      <th></th>\n",
       "      <th>Name</th>\n",
       "      <th>Age</th>\n",
       "      <th>City</th>\n",
       "      <th>Salary</th>\n",
       "    </tr>\n",
       "  </thead>\n",
       "  <tbody>\n",
       "    <tr>\n",
       "      <th>0</th>\n",
       "      <td>Alice</td>\n",
       "      <td>25</td>\n",
       "      <td>New York</td>\n",
       "      <td>50000</td>\n",
       "    </tr>\n",
       "    <tr>\n",
       "      <th>1</th>\n",
       "      <td>Bob</td>\n",
       "      <td>30</td>\n",
       "      <td>San Francisco</td>\n",
       "      <td>60000</td>\n",
       "    </tr>\n",
       "    <tr>\n",
       "      <th>2</th>\n",
       "      <td>Charlie</td>\n",
       "      <td>35</td>\n",
       "      <td>Los Angeles</td>\n",
       "      <td>70000</td>\n",
       "    </tr>\n",
       "  </tbody>\n",
       "</table>\n",
       "</div>"
      ],
      "text/plain": [
       "      Name  Age           City  Salary\n",
       "0    Alice   25       New York   50000\n",
       "1      Bob   30  San Francisco   60000\n",
       "2  Charlie   35    Los Angeles   70000"
      ]
     },
     "execution_count": 137,
     "metadata": {},
     "output_type": "execute_result"
    }
   ],
   "source": [
    "# Add a new column\n",
    "df['Salary'] = [50000, 60000, 70000]\n",
    "df"
   ]
  },
  {
   "cell_type": "code",
   "execution_count": 138,
   "metadata": {},
   "outputs": [
    {
     "data": {
      "text/html": [
       "<div>\n",
       "<style scoped>\n",
       "    .dataframe tbody tr th:only-of-type {\n",
       "        vertical-align: middle;\n",
       "    }\n",
       "\n",
       "    .dataframe tbody tr th {\n",
       "        vertical-align: top;\n",
       "    }\n",
       "\n",
       "    .dataframe thead th {\n",
       "        text-align: right;\n",
       "    }\n",
       "</style>\n",
       "<table border=\"1\" class=\"dataframe\">\n",
       "  <thead>\n",
       "    <tr style=\"text-align: right;\">\n",
       "      <th></th>\n",
       "      <th>Age</th>\n",
       "      <th>Salary</th>\n",
       "    </tr>\n",
       "  </thead>\n",
       "  <tbody>\n",
       "    <tr>\n",
       "      <th>count</th>\n",
       "      <td>3.0</td>\n",
       "      <td>3.0</td>\n",
       "    </tr>\n",
       "    <tr>\n",
       "      <th>mean</th>\n",
       "      <td>30.0</td>\n",
       "      <td>60000.0</td>\n",
       "    </tr>\n",
       "    <tr>\n",
       "      <th>std</th>\n",
       "      <td>5.0</td>\n",
       "      <td>10000.0</td>\n",
       "    </tr>\n",
       "    <tr>\n",
       "      <th>min</th>\n",
       "      <td>25.0</td>\n",
       "      <td>50000.0</td>\n",
       "    </tr>\n",
       "    <tr>\n",
       "      <th>25%</th>\n",
       "      <td>27.5</td>\n",
       "      <td>55000.0</td>\n",
       "    </tr>\n",
       "    <tr>\n",
       "      <th>50%</th>\n",
       "      <td>30.0</td>\n",
       "      <td>60000.0</td>\n",
       "    </tr>\n",
       "    <tr>\n",
       "      <th>75%</th>\n",
       "      <td>32.5</td>\n",
       "      <td>65000.0</td>\n",
       "    </tr>\n",
       "    <tr>\n",
       "      <th>max</th>\n",
       "      <td>35.0</td>\n",
       "      <td>70000.0</td>\n",
       "    </tr>\n",
       "  </tbody>\n",
       "</table>\n",
       "</div>"
      ],
      "text/plain": [
       "        Age   Salary\n",
       "count   3.0      3.0\n",
       "mean   30.0  60000.0\n",
       "std     5.0  10000.0\n",
       "min    25.0  50000.0\n",
       "25%    27.5  55000.0\n",
       "50%    30.0  60000.0\n",
       "75%    32.5  65000.0\n",
       "max    35.0  70000.0"
      ]
     },
     "execution_count": 138,
     "metadata": {},
     "output_type": "execute_result"
    }
   ],
   "source": [
    "# Describe the dataframe\n",
    "df.describe()"
   ]
  },
  {
   "cell_type": "markdown",
   "metadata": {},
   "source": [
    "## Save and Read DataFrames\n",
    "\n",
    "Pandas supports reading data from various file formats, such as CSV, Excel, and more. You can save your DataFrame to a file and then read it easily."
   ]
  },
  {
   "cell_type": "code",
   "execution_count": 139,
   "metadata": {},
   "outputs": [],
   "source": [
    "# Use to_csv() function to save your dataframe to a .csv file\n",
    "df.to_csv('my_dataframe.csv', index=False)\n",
    "\n",
    "# Then read the CSV file using read_csv()\n",
    "file_path = 'my_dataframe.csv'\n",
    "df = pd.read_csv(file_path)"
   ]
  },
  {
   "cell_type": "markdown",
   "metadata": {},
   "source": [
    "## Indexing and Slicing\n",
    "\n",
    "Indexing and slicing in Pandas DataFrames allow you to select specific subsets of data."
   ]
  },
  {
   "cell_type": "code",
   "execution_count": 140,
   "metadata": {},
   "outputs": [
    {
     "data": {
      "text/html": [
       "<div>\n",
       "<style scoped>\n",
       "    .dataframe tbody tr th:only-of-type {\n",
       "        vertical-align: middle;\n",
       "    }\n",
       "\n",
       "    .dataframe tbody tr th {\n",
       "        vertical-align: top;\n",
       "    }\n",
       "\n",
       "    .dataframe thead th {\n",
       "        text-align: right;\n",
       "    }\n",
       "</style>\n",
       "<table border=\"1\" class=\"dataframe\">\n",
       "  <thead>\n",
       "    <tr style=\"text-align: right;\">\n",
       "      <th></th>\n",
       "      <th>Name</th>\n",
       "      <th>Age</th>\n",
       "      <th>City</th>\n",
       "    </tr>\n",
       "  </thead>\n",
       "  <tbody>\n",
       "    <tr>\n",
       "      <th>0</th>\n",
       "      <td>Alice</td>\n",
       "      <td>25</td>\n",
       "      <td>New York</td>\n",
       "    </tr>\n",
       "    <tr>\n",
       "      <th>1</th>\n",
       "      <td>Bob</td>\n",
       "      <td>30</td>\n",
       "      <td>San Francisco</td>\n",
       "    </tr>\n",
       "    <tr>\n",
       "      <th>2</th>\n",
       "      <td>Charlie</td>\n",
       "      <td>35</td>\n",
       "      <td>Los Angeles</td>\n",
       "    </tr>\n",
       "    <tr>\n",
       "      <th>3</th>\n",
       "      <td>David</td>\n",
       "      <td>28</td>\n",
       "      <td>Chicago</td>\n",
       "    </tr>\n",
       "    <tr>\n",
       "      <th>4</th>\n",
       "      <td>Emily</td>\n",
       "      <td>22</td>\n",
       "      <td>Boston</td>\n",
       "    </tr>\n",
       "  </tbody>\n",
       "</table>\n",
       "</div>"
      ],
      "text/plain": [
       "      Name  Age           City\n",
       "0    Alice   25       New York\n",
       "1      Bob   30  San Francisco\n",
       "2  Charlie   35    Los Angeles\n",
       "3    David   28        Chicago\n",
       "4    Emily   22         Boston"
      ]
     },
     "execution_count": 140,
     "metadata": {},
     "output_type": "execute_result"
    }
   ],
   "source": [
    "# Create a sample DataFrame\n",
    "data = {'Name': ['Alice', 'Bob', 'Charlie', 'David', 'Emily'],\n",
    "        'Age': [25, 30, 35, 28, 22],\n",
    "        'City': ['New York', 'San Francisco', 'Los Angeles', 'Chicago', 'Boston']}\n",
    "\n",
    "df = pd.DataFrame(data)\n",
    "df"
   ]
  },
  {
   "cell_type": "code",
   "execution_count": 141,
   "metadata": {},
   "outputs": [
    {
     "name": "stdout",
     "output_type": "stream",
     "text": [
      "0      Alice\n",
      "1        Bob\n",
      "2    Charlie\n",
      "3      David\n",
      "4      Emily\n",
      "Name: Name, dtype: object\n",
      "\n",
      "\n",
      "      Name  Age\n",
      "0    Alice   25\n",
      "1      Bob   30\n",
      "2  Charlie   35\n",
      "3    David   28\n",
      "4    Emily   22\n"
     ]
    }
   ],
   "source": [
    "# Access a single column by name\n",
    "name_column = df['Name']\n",
    "print(name_column)\n",
    "print('\\n')\n",
    "\n",
    "# Access multiple columns by names\n",
    "subset = df[['Name', 'Age']]\n",
    "print(subset)"
   ]
  },
  {
   "cell_type": "markdown",
   "metadata": {},
   "source": [
    "<div class=\"alert alert-block alert-info\">\n",
    "\n",
    "# Thinking inside the Ball! <a class=\"anchor\" id=\"thinking-inside-the-ball\"></a>\n",
    "\n",
    "<img src=\"https://upload.wikimedia.org/wikipedia/commons/thumb/0/08/Sphere_wireframe.svg/220px-Sphere_wireframe.svg.png\" width=\"200\" height=\"200\" />\n",
    "    \n",
    "N-dimensional balls, also known as n-balls, extend the concept of spheres into higher dimensions. They represent perfectly round objects in spaces with any number of dimensions (in mathematical sense, objects with constant positive curvature). Just like a three-dimensional sphere is a perfectly round object, an n-ball retains this characteristic in n-dimensional space. The n-ball is defined by its center point and a radius, which determines the distance from the center to any point on its surface. While it is impossible to visualize n-balls beyond three dimensions, their study is crucial in mathematics, physics, and computer science, enabling us to understand and analyze complex phenomena in higher-dimensional spaces. "
   ]
  },
  {
   "cell_type": "markdown",
   "metadata": {},
   "source": [
    "## Calculating the volume of an N-dimensional ball <a class=\"anchor\" id=\"calc-n-dim-ball\"></a>\n",
    "\n",
    "In this task, we want to estimate and calculate the volume of an N-dimensional ball of radius one and discuss the implications of scaling to a higher dimensional space. Use Numpy and matplotplib to complete this task.\n",
    "\n",
    "- For a 2-dimensional ball (circle), the area is $\\pi r^2$\n",
    "\n",
    "- For a 3-dimensional ball (sphere), the volume is given by $\\frac{4 \\pi r^3}{3}$\n",
    "\n",
    "- For an n-dimensional ball, the volume is given by $V_n(r) = \\frac{\\pi ^ \\frac{n}{2}}{\\Gamma(\\frac{n}{2} + 1)}r^n$\n",
    "\n",
    "$\\Gamma$ is called `gamma` and it is analagous to factorials but across the continuous domain. In this case, we are using it for calculus to calculate the volume of an N-dimensional ball. You can simply use the `gamma()` function directly (we have imported this for you) in order to calculate the volume of an N-dimensional ball. Feel free to read more [here](https://en.wikipedia.org/wiki/Volume_of_an_n-ball) with regards to N-dimensional balls."
   ]
  },
  {
   "cell_type": "markdown",
   "metadata": {},
   "source": [
    "#### (a) Follow the below instructions to estimate the volume of an N-dimensional ball.\n",
    "\n",
    "- For dimensions from 2 to 50, estimate the volume of an N-dimensional ball. You can do this by taking the probability of a point being inside the N-dimensional ball of radius 1 by sampling between \\[0,1) across the N-dimensions and calculating its Euclidean distance. Afterwards, you can calculate the volume by doing 2^N * (fraction of points within unit circle in high dimensional space). This is similar to Task 3."
   ]
  },
  {
   "cell_type": "code",
   "execution_count": 12,
   "metadata": {},
   "outputs": [
    {
     "data": {
      "image/png": "[encoded data removed]",
      "text/plain": [
       "<Figure size 1000x600 with 1 Axes>"
      ]
     },
     "metadata": {},
     "output_type": "display_data"
    }
   ],
   "source": [
    "def approximate_volume_of_n_dimensional_unit_ball(n, num_samples=10000):\n",
    "    \"\"\"\n",
    "    Approximate the volume of an n-dimensional unit ball by generating random samples\n",
    "    inside an n-dimensional cube and computing the ratio of points that lie inside the unit ball.\n",
    "\n",
    "    Parameters:\n",
    "    n (int): Dimension of the space.\n",
    "    num_samples (int): Number of random samples to generate.\n",
    "\n",
    "    Returns:\n",
    "    float: Approximation of the volume of the n-dimensional unit ball.\n",
    "    \"\"\"\n",
    "\n",
    "    # Generate random samples inside an n-dimensional cube [-1, 1]^n\n",
    "    random_points = np.random.uniform(-1, 1, (num_samples, n))\n",
    "\n",
    "    # Compute the distance of each point from the origin\n",
    "    distances = np.linalg.norm(random_points, axis=1) \n",
    "\n",
    "    # Count how many points are inside the unit ball (distance <= 1)\n",
    "    points_inside = np.sum(distances <= 1)\n",
    "\n",
    "    # Compute the ratio of points inside the unit ball\n",
    "    ratio_inside = points_inside / num_samples\n",
    "\n",
    "    # # The volume of the n-dimensional cube is 2^n\n",
    "    # # The volume of the unit ball is this ratio times the volume of the cube\n",
    "    volume_approximation = ratio_inside * (2 ** n)\n",
    "\n",
    "    return volume_approximation\n",
    "\n",
    "\n",
    "\n",
    "# Store the approximate volumes for different dimensions\n",
    "volumes = []\n",
    "dimensions = range(1, 25)\n",
    "\n",
    "for n in dimensions:\n",
    "    approximated_volume = approximate_volume_of_n_dimensional_unit_ball(n, num_samples=1000000)\n",
    "    volumes.append(approximated_volume)\n",
    "\n",
    "# Plotting the volumes against the dimensions\n",
    "plt.figure(figsize=(10, 6))\n",
    "plt.plot(dimensions, volumes, marker='o', color='blue', alpha=0.5)\n",
    "plt.xlabel('Number of Dimensions (n)')\n",
    "plt.ylabel('Approximated Volume')\n",
    "plt.title('Approximated Volume of n-Dimensional Unit Balls')\n",
    "plt.grid(True)\n",
    "plt.show()\n",
    "\n",
    "\n",
    "\n"
   ]
  },
  {
   "cell_type": "markdown",
   "metadata": {},
   "source": [
    "That is all for this notebook. We hope you enjoyed it and see you in the next one!  "
   ]
  }
 ],
 "metadata": {
  "accelerator": "GPU",
  "colab": {
   "name": "Python_Basics_Tutorial.ipynb",
   "provenance": []
  },
  "gpuClass": "standard",
  "kernelspec": {
   "display_name": "Python 3 (ipykernel)",
   "language": "python",
   "name": "python3"
  },
  "language_info": {
   "codemirror_mode": {
    "name": "ipython",
    "version": 3
   },
   "file_extension": ".py",
   "mimetype": "text/x-python",
   "name": "python",
   "nbconvert_exporter": "python",
   "pygments_lexer": "ipython3",
   "version": "3.10.13"
  }
 },
 "nbformat": 4,
 "nbformat_minor": 1
}
